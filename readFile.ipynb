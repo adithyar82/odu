{
 "cells": [
  {
   "cell_type": "code",
   "execution_count": 68,
   "metadata": {},
   "outputs": [
    {
     "data": {
      "text/plain": [
       "bs4.BeautifulSoup"
      ]
     },
     "execution_count": 68,
     "metadata": {},
     "output_type": "execute_result"
    }
   ],
   "source": [
    "from bs4 import BeautifulSoup\n",
    "import json\n",
    "f = open(\"index_yg.html\", \"r\")\n",
    "# print(f.read())\n",
    "type(str(f))\n",
    "# trauma = f.split(\".\")\n",
    "# trauma\n",
    "soup = BeautifulSoup(f, 'lxml')\n",
    "type(soup)"
   ]
  },
  {
   "cell_type": "code",
   "execution_count": 92,
   "metadata": {},
   "outputs": [
    {
     "name": "stdout",
     "output_type": "stream",
     "text": [
      "80\n",
      "80\n"
     ]
    }
   ],
   "source": [
    "mainresult = soup.find(\"div\", {\"id\": \"divToSearch\"})\n",
    "resultSet = mainresult.find_all('div',recursive=False)\n",
    "\n",
    "configArray = []\n",
    "# print(len(resultSet))\n",
    "for section in resultSet:\n",
    "    #print(section.text)\n",
    "    configArray.append({\"id\":section.get('id'),\"body\":section.text.encode('ascii', 'ignore').decode('ascii').replace('\"','').replace('\\n','').replace(\"\\'\",'').replace('/',' ')})\n",
    "\n",
    "print(len(configArray))\n",
    "with open('data.json', 'w') as outfile:\n",
    "    json.dump(configArray, outfile)\n",
    "# json.dumps(configArray)"
   ]
  }
 ],
 "metadata": {
  "kernelspec": {
   "display_name": "Python 3",
   "language": "python",
   "name": "python3"
  },
  "language_info": {
   "codemirror_mode": {
    "name": "ipython",
    "version": 3
   },
   "file_extension": ".py",
   "mimetype": "text/x-python",
   "name": "python",
   "nbconvert_exporter": "python",
   "pygments_lexer": "ipython3",
   "version": "3.8.5"
  }
 },
 "nbformat": 4,
 "nbformat_minor": 4
}
